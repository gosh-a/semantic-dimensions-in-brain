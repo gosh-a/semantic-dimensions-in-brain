{
 "cells": [
  {
   "cell_type": "code",
   "execution_count": 113,
   "id": "625e39fd-f994-4bd0-9782-57cb089a200c",
   "metadata": {},
   "outputs": [],
   "source": [
    "import os\n",
    "import scipy\n",
    "import pandas as pd\n",
    "import numpy as np\n",
    "from tqdm.auto import tqdm"
   ]
  },
  {
   "cell_type": "code",
   "execution_count": 114,
   "id": "31ce1415-23c1-49a1-ad3a-44786e0c2275",
   "metadata": {},
   "outputs": [],
   "source": [
    "mdata = [scipy.io.loadmat(os.path.join('data', 'mitchell', file)) for file in os.listdir('data/mitchell')]"
   ]
  },
  {
   "cell_type": "markdown",
   "id": "cc747db6-57aa-4f6f-89f8-b96ebdbfb4ee",
   "metadata": {
    "tags": []
   },
   "source": [
    "### Filter voxel overlap"
   ]
  },
  {
   "cell_type": "code",
   "execution_count": 115,
   "id": "3a3ce37f-f5c5-42b6-afab-b9cd412cf2f6",
   "metadata": {
    "tags": []
   },
   "outputs": [],
   "source": [
    "participants = []\n",
    "for participant in mdata:\n",
    "    voxel_ids = list(map(tuple, participant['meta'][0][0][7]))\n",
    "    voxel_activations = participant['data']\n",
    "    participants.append((voxel_ids, voxel_activations))"
   ]
  },
  {
   "cell_type": "code",
   "execution_count": 116,
   "id": "113a57ae-7720-4b22-9226-389ecb72126d",
   "metadata": {
    "tags": []
   },
   "outputs": [],
   "source": [
    "common_voxel_ids = set(participants[0][0])\n",
    "for ids, _ in participants[1:]:\n",
    "    common_voxel_ids.intersection_update(ids)"
   ]
  },
  {
   "cell_type": "code",
   "execution_count": 118,
   "id": "cd2b57ed-5c92-47aa-a8cf-f2c257d00153",
   "metadata": {
    "tags": []
   },
   "outputs": [
    {
     "name": "stderr",
     "output_type": "stream",
     "text": [
      "100%|██████████| 9/9 [00:21<00:00,  2.43s/it]\n"
     ]
    }
   ],
   "source": [
    "mdata_common_voxels = []\n",
    "for participant in tqdm(participants):\n",
    "    voxel_ids = participant[0]\n",
    "    trials_activation = participant[1]\n",
    "    common_activations = []\n",
    "    for activations in trials_activation:\n",
    "        activation_dict = {voxel_id: activation for voxel_id, activation in zip(voxel_ids, activations[0][0])}\n",
    "        activations_list = []\n",
    "        voxel_id_list = []\n",
    "        for voxel_id in common_voxel_ids:\n",
    "            activations_list.append(activation_dict[voxel_id])\n",
    "            voxel_id_list.append(voxel_id)\n",
    "        common_activations.append((voxel_id_list, np.array(activations_list)))\n",
    "    mdata_common_voxels.append(common_activations)"
   ]
  },
  {
   "cell_type": "markdown",
   "id": "f7d1850f-4074-4394-a925-4d7bd616760f",
   "metadata": {
    "tags": []
   },
   "source": [
    "### Voxels atlas"
   ]
  },
  {
   "cell_type": "code",
   "execution_count": 6,
   "id": "bd823180-0115-4328-9e25-9aaec410476d",
   "metadata": {},
   "outputs": [],
   "source": [
    "vox_atlas = scipy.io.loadmat(\"../mitchel_matlab/functions/ccbi_aal_atlas.mat\")"
   ]
  },
  {
   "cell_type": "code",
   "execution_count": 8,
   "id": "ab240eee-fda1-4992-9d4f-8cfe9ec457b4",
   "metadata": {},
   "outputs": [
    {
     "data": {
      "text/plain": [
       "dict_keys(['__header__', '__version__', '__globals__', 'Y', 'vinv', 'label', 'id'])"
      ]
     },
     "execution_count": 8,
     "metadata": {},
     "output_type": "execute_result"
    }
   ],
   "source": [
    "vox_atlas.keys()"
   ]
  },
  {
   "cell_type": "code",
   "execution_count": 13,
   "id": "d7489d14-db53-41ff-9014-a7ffec7cff70",
   "metadata": {},
   "outputs": [
    {
     "data": {
      "text/plain": [
       "(91, 109, 91)"
      ]
     },
     "execution_count": 13,
     "metadata": {},
     "output_type": "execute_result"
    }
   ],
   "source": [
    "vox_atlas['Y'].shape"
   ]
  },
  {
   "cell_type": "markdown",
   "id": "f0e6ba1d-66cc-4a1c-8853-fe67801a2e3c",
   "metadata": {
    "tags": []
   },
   "source": [
    "### Create voxels-nouns matrix (21764 x 60)"
   ]
  },
  {
   "cell_type": "code",
   "execution_count": 220,
   "id": "3c17ba1f-0bd8-4ce8-927f-0c9422559b6d",
   "metadata": {
    "scrolled": true
   },
   "outputs": [],
   "source": [
    "arrays = {}\n",
    "for i in range(len(mdata)):\n",
    "    for item in mdata[i]['info'][0]:\n",
    "        word = item[2][0]\n",
    "        if word in arrays:\n",
    "            arrays[word].append(mdata_common_voxels[i][np.where(mdata[i]['info'][0] == item)[0][0]][1])\n",
    "        else:\n",
    "            arrays[word] = [mdata_common_voxels[i][np.where(mdata[i]['info'][0] == item)[0][0]][1]]"
   ]
  },
  {
   "cell_type": "code",
   "execution_count": 221,
   "id": "2e0744d4-5546-4a15-9669-69057877d20f",
   "metadata": {},
   "outputs": [],
   "source": [
    "averaged_arrays = {}\n",
    "for word in arrays.keys():\n",
    "    averaged_arrays[word] = np.mean(np.stack(arrays[word]), axis=0)"
   ]
  },
  {
   "cell_type": "code",
   "execution_count": 222,
   "id": "3cbf0ca1-50cb-446b-ac47-74c7c751f525",
   "metadata": {
    "scrolled": true
   },
   "outputs": [],
   "source": [
    "df_voxel_noun = pd.DataFrame.from_dict(averaged_arrays)"
   ]
  },
  {
   "cell_type": "code",
   "execution_count": 224,
   "id": "8c9d0196-5913-44fb-97c7-0dbcbef7d043",
   "metadata": {},
   "outputs": [
    {
     "data": {
      "text/html": [
       "<div>\n",
       "<style scoped>\n",
       "    .dataframe tbody tr th:only-of-type {\n",
       "        vertical-align: middle;\n",
       "    }\n",
       "\n",
       "    .dataframe tbody tr th {\n",
       "        vertical-align: top;\n",
       "    }\n",
       "\n",
       "    .dataframe thead th {\n",
       "        text-align: right;\n",
       "    }\n",
       "</style>\n",
       "<table border=\"1\" class=\"dataframe\">\n",
       "  <thead>\n",
       "    <tr style=\"text-align: right;\">\n",
       "      <th></th>\n",
       "      <th>refrigerator</th>\n",
       "      <th>barn</th>\n",
       "      <th>bell</th>\n",
       "      <th>key</th>\n",
       "      <th>window</th>\n",
       "      <th>screwdriver</th>\n",
       "      <th>church</th>\n",
       "      <th>desk</th>\n",
       "      <th>cow</th>\n",
       "      <th>knife</th>\n",
       "      <th>...</th>\n",
       "      <th>door</th>\n",
       "      <th>leg</th>\n",
       "      <th>carrot</th>\n",
       "      <th>watch</th>\n",
       "      <th>table</th>\n",
       "      <th>chimney</th>\n",
       "      <th>bed</th>\n",
       "      <th>fly</th>\n",
       "      <th>dog</th>\n",
       "      <th>telephone</th>\n",
       "    </tr>\n",
       "  </thead>\n",
       "  <tbody>\n",
       "    <tr>\n",
       "      <th>0</th>\n",
       "      <td>-0.012514</td>\n",
       "      <td>-0.099705</td>\n",
       "      <td>0.062205</td>\n",
       "      <td>0.160798</td>\n",
       "      <td>0.089062</td>\n",
       "      <td>-0.026115</td>\n",
       "      <td>0.089495</td>\n",
       "      <td>0.117547</td>\n",
       "      <td>0.051390</td>\n",
       "      <td>0.148600</td>\n",
       "      <td>...</td>\n",
       "      <td>-0.000671</td>\n",
       "      <td>-0.034956</td>\n",
       "      <td>0.075208</td>\n",
       "      <td>-0.080399</td>\n",
       "      <td>-0.095861</td>\n",
       "      <td>-0.124346</td>\n",
       "      <td>0.152353</td>\n",
       "      <td>0.249923</td>\n",
       "      <td>0.104739</td>\n",
       "      <td>-0.082348</td>\n",
       "    </tr>\n",
       "    <tr>\n",
       "      <th>1</th>\n",
       "      <td>0.004073</td>\n",
       "      <td>0.150665</td>\n",
       "      <td>-0.041381</td>\n",
       "      <td>-0.032574</td>\n",
       "      <td>0.012020</td>\n",
       "      <td>-0.043047</td>\n",
       "      <td>-0.046725</td>\n",
       "      <td>0.231704</td>\n",
       "      <td>-0.043682</td>\n",
       "      <td>0.189475</td>\n",
       "      <td>...</td>\n",
       "      <td>0.007445</td>\n",
       "      <td>-0.190556</td>\n",
       "      <td>-0.038704</td>\n",
       "      <td>-0.103024</td>\n",
       "      <td>-0.143510</td>\n",
       "      <td>-0.138647</td>\n",
       "      <td>0.075204</td>\n",
       "      <td>-0.120406</td>\n",
       "      <td>0.009444</td>\n",
       "      <td>-0.063714</td>\n",
       "    </tr>\n",
       "    <tr>\n",
       "      <th>2</th>\n",
       "      <td>0.339468</td>\n",
       "      <td>0.165295</td>\n",
       "      <td>0.224444</td>\n",
       "      <td>0.189013</td>\n",
       "      <td>0.027443</td>\n",
       "      <td>0.224441</td>\n",
       "      <td>0.125367</td>\n",
       "      <td>0.150629</td>\n",
       "      <td>0.228366</td>\n",
       "      <td>0.397830</td>\n",
       "      <td>...</td>\n",
       "      <td>-0.008815</td>\n",
       "      <td>0.016563</td>\n",
       "      <td>0.149002</td>\n",
       "      <td>-0.066596</td>\n",
       "      <td>0.063831</td>\n",
       "      <td>0.131591</td>\n",
       "      <td>0.515392</td>\n",
       "      <td>0.223411</td>\n",
       "      <td>0.153883</td>\n",
       "      <td>-0.085430</td>\n",
       "    </tr>\n",
       "    <tr>\n",
       "      <th>3</th>\n",
       "      <td>-0.027404</td>\n",
       "      <td>-0.120602</td>\n",
       "      <td>0.141460</td>\n",
       "      <td>0.013487</td>\n",
       "      <td>0.087629</td>\n",
       "      <td>-0.110773</td>\n",
       "      <td>0.023360</td>\n",
       "      <td>-0.059483</td>\n",
       "      <td>0.120359</td>\n",
       "      <td>0.231212</td>\n",
       "      <td>...</td>\n",
       "      <td>-0.033112</td>\n",
       "      <td>-0.194160</td>\n",
       "      <td>-0.198997</td>\n",
       "      <td>-0.058925</td>\n",
       "      <td>-0.218875</td>\n",
       "      <td>-0.123676</td>\n",
       "      <td>0.127954</td>\n",
       "      <td>-0.156444</td>\n",
       "      <td>0.030061</td>\n",
       "      <td>-0.132323</td>\n",
       "    </tr>\n",
       "    <tr>\n",
       "      <th>4</th>\n",
       "      <td>0.166217</td>\n",
       "      <td>0.023788</td>\n",
       "      <td>0.200193</td>\n",
       "      <td>0.083213</td>\n",
       "      <td>0.103442</td>\n",
       "      <td>-0.200677</td>\n",
       "      <td>-0.006194</td>\n",
       "      <td>-0.090887</td>\n",
       "      <td>0.011963</td>\n",
       "      <td>0.211302</td>\n",
       "      <td>...</td>\n",
       "      <td>0.000114</td>\n",
       "      <td>0.048326</td>\n",
       "      <td>0.073113</td>\n",
       "      <td>-0.025460</td>\n",
       "      <td>-0.135332</td>\n",
       "      <td>-0.134097</td>\n",
       "      <td>0.240360</td>\n",
       "      <td>-0.004976</td>\n",
       "      <td>0.140009</td>\n",
       "      <td>-0.204470</td>\n",
       "    </tr>\n",
       "  </tbody>\n",
       "</table>\n",
       "<p>5 rows × 60 columns</p>\n",
       "</div>"
      ],
      "text/plain": [
       "   refrigerator      barn      bell       key    window  screwdriver  \\\n",
       "0     -0.012514 -0.099705  0.062205  0.160798  0.089062    -0.026115   \n",
       "1      0.004073  0.150665 -0.041381 -0.032574  0.012020    -0.043047   \n",
       "2      0.339468  0.165295  0.224444  0.189013  0.027443     0.224441   \n",
       "3     -0.027404 -0.120602  0.141460  0.013487  0.087629    -0.110773   \n",
       "4      0.166217  0.023788  0.200193  0.083213  0.103442    -0.200677   \n",
       "\n",
       "     church      desk       cow     knife  ...      door       leg    carrot  \\\n",
       "0  0.089495  0.117547  0.051390  0.148600  ... -0.000671 -0.034956  0.075208   \n",
       "1 -0.046725  0.231704 -0.043682  0.189475  ...  0.007445 -0.190556 -0.038704   \n",
       "2  0.125367  0.150629  0.228366  0.397830  ... -0.008815  0.016563  0.149002   \n",
       "3  0.023360 -0.059483  0.120359  0.231212  ... -0.033112 -0.194160 -0.198997   \n",
       "4 -0.006194 -0.090887  0.011963  0.211302  ...  0.000114  0.048326  0.073113   \n",
       "\n",
       "      watch     table   chimney       bed       fly       dog  telephone  \n",
       "0 -0.080399 -0.095861 -0.124346  0.152353  0.249923  0.104739  -0.082348  \n",
       "1 -0.103024 -0.143510 -0.138647  0.075204 -0.120406  0.009444  -0.063714  \n",
       "2 -0.066596  0.063831  0.131591  0.515392  0.223411  0.153883  -0.085430  \n",
       "3 -0.058925 -0.218875 -0.123676  0.127954 -0.156444  0.030061  -0.132323  \n",
       "4 -0.025460 -0.135332 -0.134097  0.240360 -0.004976  0.140009  -0.204470  \n",
       "\n",
       "[5 rows x 60 columns]"
      ]
     },
     "execution_count": 224,
     "metadata": {},
     "output_type": "execute_result"
    }
   ],
   "source": [
    "df_voxel_noun.head()"
   ]
  },
  {
   "cell_type": "markdown",
   "id": "e6a9c16b-2a4f-4d57-8f97-3ae38da18c73",
   "metadata": {
    "tags": []
   },
   "source": [
    "### Create nouns-sem_featuers matrix (60 x 25)"
   ]
  },
  {
   "cell_type": "code",
   "execution_count": 225,
   "id": "4ff8dae7-7471-4c5c-b1f3-86eedb45bb3a",
   "metadata": {},
   "outputs": [],
   "source": [
    "raw_file = os.path.join(\"data\",\"mitchell_semantic_raw.txt\")\n",
    "semantic_features = {}\n",
    "with open(raw_file, 'r') as f:\n",
    "    lines = f.readlines()\n",
    "    word = None\n",
    "    for line in lines:\n",
    "        if len(line) >= 5:\n",
    "            if \"Features for\" in line:\n",
    "                if word and len(semantic_features[word]['features']) < 25: del semantic_features[word] \n",
    "                word = line.split(\"<a name=\\\"\")[1].split(\"\\\"\")[0]\n",
    "                semantic_features[word] = { \"features\": [], \"values\": []}\n",
    "            elif word:\n",
    "                feature_name = line.split()[0]\n",
    "                val = float(line.split(\"(\")[1].split(\")\")[0])\n",
    "                semantic_features[word][\"features\"].append(feature_name)\n",
    "                semantic_features[word][\"values\"].append(val)"
   ]
  },
  {
   "cell_type": "code",
   "execution_count": 226,
   "id": "1f83dbae-bc12-4d91-b7f6-2e70ca810265",
   "metadata": {
    "tags": []
   },
   "outputs": [],
   "source": [
    "df_noun_feature = pd.DataFrame()\n",
    "for noun, info in semantic_features.items():\n",
    "    temp_df = pd.DataFrame({\n",
    "        'feature': info['features'],\n",
    "        'value': info['values'],\n",
    "        'noun': noun})\n",
    "    df_noun_feature = pd.concat([df_noun_feature, temp_df], ignore_index=True)\n",
    "\n",
    "df_noun_feature = df_noun_feature.pivot(columns='feature', values='value', index='noun')"
   ]
  },
  {
   "cell_type": "code",
   "execution_count": 227,
   "id": "0f582237-109c-4a36-968b-816cbd627dbc",
   "metadata": {
    "tags": []
   },
   "outputs": [
    {
     "data": {
      "text/html": [
       "<div>\n",
       "<style scoped>\n",
       "    .dataframe tbody tr th:only-of-type {\n",
       "        vertical-align: middle;\n",
       "    }\n",
       "\n",
       "    .dataframe tbody tr th {\n",
       "        vertical-align: top;\n",
       "    }\n",
       "\n",
       "    .dataframe thead th {\n",
       "        text-align: right;\n",
       "    }\n",
       "</style>\n",
       "<table border=\"1\" class=\"dataframe\">\n",
       "  <thead>\n",
       "    <tr style=\"text-align: right;\">\n",
       "      <th>feature</th>\n",
       "      <th>approach</th>\n",
       "      <th>break</th>\n",
       "      <th>clean</th>\n",
       "      <th>drive</th>\n",
       "      <th>eat</th>\n",
       "      <th>enter</th>\n",
       "      <th>fear</th>\n",
       "      <th>fill</th>\n",
       "      <th>hear</th>\n",
       "      <th>lift</th>\n",
       "      <th>...</th>\n",
       "      <th>push</th>\n",
       "      <th>ride</th>\n",
       "      <th>rub</th>\n",
       "      <th>run</th>\n",
       "      <th>say</th>\n",
       "      <th>see</th>\n",
       "      <th>smell</th>\n",
       "      <th>taste</th>\n",
       "      <th>touch</th>\n",
       "      <th>wear</th>\n",
       "    </tr>\n",
       "    <tr>\n",
       "      <th>noun</th>\n",
       "      <th></th>\n",
       "      <th></th>\n",
       "      <th></th>\n",
       "      <th></th>\n",
       "      <th></th>\n",
       "      <th></th>\n",
       "      <th></th>\n",
       "      <th></th>\n",
       "      <th></th>\n",
       "      <th></th>\n",
       "      <th></th>\n",
       "      <th></th>\n",
       "      <th></th>\n",
       "      <th></th>\n",
       "      <th></th>\n",
       "      <th></th>\n",
       "      <th></th>\n",
       "      <th></th>\n",
       "      <th></th>\n",
       "      <th></th>\n",
       "      <th></th>\n",
       "    </tr>\n",
       "  </thead>\n",
       "  <tbody>\n",
       "    <tr>\n",
       "      <th>airplane</th>\n",
       "      <td>0.048</td>\n",
       "      <td>0.028</td>\n",
       "      <td>0.019</td>\n",
       "      <td>0.023</td>\n",
       "      <td>0.024</td>\n",
       "      <td>0.056</td>\n",
       "      <td>0.019</td>\n",
       "      <td>0.032</td>\n",
       "      <td>0.066</td>\n",
       "      <td>0.072</td>\n",
       "      <td>...</td>\n",
       "      <td>0.024</td>\n",
       "      <td>0.918</td>\n",
       "      <td>0.000</td>\n",
       "      <td>0.052</td>\n",
       "      <td>0.201</td>\n",
       "      <td>0.221</td>\n",
       "      <td>0.005</td>\n",
       "      <td>0.000</td>\n",
       "      <td>0.048</td>\n",
       "      <td>0.001</td>\n",
       "    </tr>\n",
       "    <tr>\n",
       "      <th>ant</th>\n",
       "      <td>0.023</td>\n",
       "      <td>0.017</td>\n",
       "      <td>0.132</td>\n",
       "      <td>0.010</td>\n",
       "      <td>0.062</td>\n",
       "      <td>0.016</td>\n",
       "      <td>0.005</td>\n",
       "      <td>0.005</td>\n",
       "      <td>0.016</td>\n",
       "      <td>0.016</td>\n",
       "      <td>...</td>\n",
       "      <td>0.000</td>\n",
       "      <td>0.015</td>\n",
       "      <td>0.006</td>\n",
       "      <td>0.944</td>\n",
       "      <td>0.156</td>\n",
       "      <td>0.198</td>\n",
       "      <td>0.000</td>\n",
       "      <td>0.006</td>\n",
       "      <td>0.005</td>\n",
       "      <td>0.003</td>\n",
       "    </tr>\n",
       "    <tr>\n",
       "      <th>apartment</th>\n",
       "      <td>0.009</td>\n",
       "      <td>0.064</td>\n",
       "      <td>0.238</td>\n",
       "      <td>0.070</td>\n",
       "      <td>0.012</td>\n",
       "      <td>0.210</td>\n",
       "      <td>0.002</td>\n",
       "      <td>0.080</td>\n",
       "      <td>0.021</td>\n",
       "      <td>0.024</td>\n",
       "      <td>...</td>\n",
       "      <td>0.002</td>\n",
       "      <td>0.007</td>\n",
       "      <td>0.000</td>\n",
       "      <td>0.075</td>\n",
       "      <td>0.093</td>\n",
       "      <td>0.200</td>\n",
       "      <td>0.036</td>\n",
       "      <td>0.000</td>\n",
       "      <td>0.002</td>\n",
       "      <td>0.000</td>\n",
       "    </tr>\n",
       "    <tr>\n",
       "      <th>arch</th>\n",
       "      <td>0.060</td>\n",
       "      <td>0.047</td>\n",
       "      <td>0.185</td>\n",
       "      <td>0.075</td>\n",
       "      <td>0.035</td>\n",
       "      <td>0.032</td>\n",
       "      <td>0.024</td>\n",
       "      <td>0.054</td>\n",
       "      <td>0.012</td>\n",
       "      <td>0.053</td>\n",
       "      <td>...</td>\n",
       "      <td>0.004</td>\n",
       "      <td>0.018</td>\n",
       "      <td>0.007</td>\n",
       "      <td>0.129</td>\n",
       "      <td>0.244</td>\n",
       "      <td>0.474</td>\n",
       "      <td>0.000</td>\n",
       "      <td>0.000</td>\n",
       "      <td>0.127</td>\n",
       "      <td>0.015</td>\n",
       "    </tr>\n",
       "    <tr>\n",
       "      <th>arm</th>\n",
       "      <td>0.019</td>\n",
       "      <td>0.432</td>\n",
       "      <td>0.021</td>\n",
       "      <td>0.071</td>\n",
       "      <td>0.008</td>\n",
       "      <td>0.024</td>\n",
       "      <td>0.005</td>\n",
       "      <td>0.026</td>\n",
       "      <td>0.007</td>\n",
       "      <td>0.548</td>\n",
       "      <td>...</td>\n",
       "      <td>0.084</td>\n",
       "      <td>0.010</td>\n",
       "      <td>0.030</td>\n",
       "      <td>0.103</td>\n",
       "      <td>0.450</td>\n",
       "      <td>0.132</td>\n",
       "      <td>0.001</td>\n",
       "      <td>0.002</td>\n",
       "      <td>0.206</td>\n",
       "      <td>0.048</td>\n",
       "    </tr>\n",
       "  </tbody>\n",
       "</table>\n",
       "<p>5 rows × 25 columns</p>\n",
       "</div>"
      ],
      "text/plain": [
       "feature    approach  break  clean  drive    eat  enter   fear   fill   hear  \\\n",
       "noun                                                                          \n",
       "airplane      0.048  0.028  0.019  0.023  0.024  0.056  0.019  0.032  0.066   \n",
       "ant           0.023  0.017  0.132  0.010  0.062  0.016  0.005  0.005  0.016   \n",
       "apartment     0.009  0.064  0.238  0.070  0.012  0.210  0.002  0.080  0.021   \n",
       "arch          0.060  0.047  0.185  0.075  0.035  0.032  0.024  0.054  0.012   \n",
       "arm           0.019  0.432  0.021  0.071  0.008  0.024  0.005  0.026  0.007   \n",
       "\n",
       "feature     lift  ...   push   ride    rub    run    say    see  smell  taste  \\\n",
       "noun              ...                                                           \n",
       "airplane   0.072  ...  0.024  0.918  0.000  0.052  0.201  0.221  0.005  0.000   \n",
       "ant        0.016  ...  0.000  0.015  0.006  0.944  0.156  0.198  0.000  0.006   \n",
       "apartment  0.024  ...  0.002  0.007  0.000  0.075  0.093  0.200  0.036  0.000   \n",
       "arch       0.053  ...  0.004  0.018  0.007  0.129  0.244  0.474  0.000  0.000   \n",
       "arm        0.548  ...  0.084  0.010  0.030  0.103  0.450  0.132  0.001  0.002   \n",
       "\n",
       "feature    touch   wear  \n",
       "noun                     \n",
       "airplane   0.048  0.001  \n",
       "ant        0.005  0.003  \n",
       "apartment  0.002  0.000  \n",
       "arch       0.127  0.015  \n",
       "arm        0.206  0.048  \n",
       "\n",
       "[5 rows x 25 columns]"
      ]
     },
     "execution_count": 227,
     "metadata": {},
     "output_type": "execute_result"
    }
   ],
   "source": [
    "df_noun_feature.head()"
   ]
  },
  {
   "cell_type": "markdown",
   "id": "2b80b293-b35e-4ce2-9835-c30efebe2cf0",
   "metadata": {},
   "source": [
    "### Regression"
   ]
  },
  {
   "cell_type": "code",
   "execution_count": 228,
   "id": "03f76eb3-045f-4dce-901c-536d65326e0b",
   "metadata": {},
   "outputs": [],
   "source": [
    "from sklearn.linear_model import LinearRegression"
   ]
  },
  {
   "cell_type": "code",
   "execution_count": 229,
   "id": "b0207e90-746c-41b7-801f-bd9aa000d97e",
   "metadata": {},
   "outputs": [],
   "source": [
    "model = LinearRegression()"
   ]
  },
  {
   "cell_type": "code",
   "execution_count": 230,
   "id": "4bec1059-b098-4ccb-a8fa-475585d12b67",
   "metadata": {},
   "outputs": [],
   "source": [
    "voxel_coordinates = mdata_common_voxels[0][0][0]"
   ]
  },
  {
   "cell_type": "code",
   "execution_count": 231,
   "id": "d63f93b7-4141-494a-b1de-6b83c641210e",
   "metadata": {},
   "outputs": [],
   "source": [
    "X = df_noun_feature\n",
    "y = df_voxel_noun"
   ]
  },
  {
   "cell_type": "code",
   "execution_count": 232,
   "id": "2cc61e90-c0b0-46ea-9a2a-3626eded782a",
   "metadata": {},
   "outputs": [],
   "source": [
    "df_coefficients = pd.DataFrame(index=range(y.shape[0]), columns=X.columns)\n",
    "df_coefficients.index.name = 'voxel'"
   ]
  },
  {
   "cell_type": "code",
   "execution_count": 233,
   "id": "4c6d5876-b40f-4d5c-8cd8-42c25e33b056",
   "metadata": {},
   "outputs": [
    {
     "name": "stderr",
     "output_type": "stream",
     "text": [
      "100%|██████████| 17326/17326 [00:10<00:00, 1645.45it/s]\n"
     ]
    }
   ],
   "source": [
    "for i in tqdm(range(y.shape[0])):\n",
    "    model.fit(X, y.iloc[i])\n",
    "    df_coefficients.iloc[i] = model.coef_\n",
    "df_coefficients['coordinates'] = voxel_coordinates"
   ]
  },
  {
   "cell_type": "code",
   "execution_count": 513,
   "id": "e9e969d6-e1f1-4821-98e4-28fba9862bfd",
   "metadata": {},
   "outputs": [
    {
     "data": {
      "text/html": [
       "<div>\n",
       "<style scoped>\n",
       "    .dataframe tbody tr th:only-of-type {\n",
       "        vertical-align: middle;\n",
       "    }\n",
       "\n",
       "    .dataframe tbody tr th {\n",
       "        vertical-align: top;\n",
       "    }\n",
       "\n",
       "    .dataframe thead th {\n",
       "        text-align: right;\n",
       "    }\n",
       "</style>\n",
       "<table border=\"1\" class=\"dataframe\">\n",
       "  <thead>\n",
       "    <tr style=\"text-align: right;\">\n",
       "      <th>feature</th>\n",
       "      <th>approach</th>\n",
       "      <th>break</th>\n",
       "      <th>clean</th>\n",
       "      <th>drive</th>\n",
       "      <th>eat</th>\n",
       "      <th>enter</th>\n",
       "      <th>fear</th>\n",
       "      <th>fill</th>\n",
       "      <th>hear</th>\n",
       "      <th>lift</th>\n",
       "      <th>...</th>\n",
       "      <th>ride</th>\n",
       "      <th>rub</th>\n",
       "      <th>run</th>\n",
       "      <th>say</th>\n",
       "      <th>see</th>\n",
       "      <th>smell</th>\n",
       "      <th>taste</th>\n",
       "      <th>touch</th>\n",
       "      <th>wear</th>\n",
       "      <th>coordinates</th>\n",
       "    </tr>\n",
       "    <tr>\n",
       "      <th>voxel</th>\n",
       "      <th></th>\n",
       "      <th></th>\n",
       "      <th></th>\n",
       "      <th></th>\n",
       "      <th></th>\n",
       "      <th></th>\n",
       "      <th></th>\n",
       "      <th></th>\n",
       "      <th></th>\n",
       "      <th></th>\n",
       "      <th></th>\n",
       "      <th></th>\n",
       "      <th></th>\n",
       "      <th></th>\n",
       "      <th></th>\n",
       "      <th></th>\n",
       "      <th></th>\n",
       "      <th></th>\n",
       "      <th></th>\n",
       "      <th></th>\n",
       "      <th></th>\n",
       "    </tr>\n",
       "  </thead>\n",
       "  <tbody>\n",
       "    <tr>\n",
       "      <th>0</th>\n",
       "      <td>0.316118</td>\n",
       "      <td>0.062101</td>\n",
       "      <td>0.304672</td>\n",
       "      <td>0.107914</td>\n",
       "      <td>0.179471</td>\n",
       "      <td>-0.175867</td>\n",
       "      <td>0.237096</td>\n",
       "      <td>0.149849</td>\n",
       "      <td>0.404479</td>\n",
       "      <td>0.096848</td>\n",
       "      <td>...</td>\n",
       "      <td>0.193677</td>\n",
       "      <td>-1.528674</td>\n",
       "      <td>0.024</td>\n",
       "      <td>0.034793</td>\n",
       "      <td>0.044276</td>\n",
       "      <td>-1.26423</td>\n",
       "      <td>0.043618</td>\n",
       "      <td>0.30875</td>\n",
       "      <td>0.081344</td>\n",
       "      <td>(15, 32, 18)</td>\n",
       "    </tr>\n",
       "    <tr>\n",
       "      <th>1</th>\n",
       "      <td>0.23307</td>\n",
       "      <td>-0.038993</td>\n",
       "      <td>0.014711</td>\n",
       "      <td>0.111085</td>\n",
       "      <td>0.088122</td>\n",
       "      <td>-0.300206</td>\n",
       "      <td>-0.17827</td>\n",
       "      <td>0.447787</td>\n",
       "      <td>1.079586</td>\n",
       "      <td>-0.094468</td>\n",
       "      <td>...</td>\n",
       "      <td>-0.066421</td>\n",
       "      <td>-2.351172</td>\n",
       "      <td>0.084264</td>\n",
       "      <td>-0.018474</td>\n",
       "      <td>-0.079446</td>\n",
       "      <td>-1.450164</td>\n",
       "      <td>-0.165458</td>\n",
       "      <td>0.001592</td>\n",
       "      <td>0.04555</td>\n",
       "      <td>(7, 35, 10)</td>\n",
       "    </tr>\n",
       "    <tr>\n",
       "      <th>2</th>\n",
       "      <td>0.000378</td>\n",
       "      <td>0.006736</td>\n",
       "      <td>-0.067433</td>\n",
       "      <td>0.088367</td>\n",
       "      <td>0.285909</td>\n",
       "      <td>0.144354</td>\n",
       "      <td>-0.183911</td>\n",
       "      <td>0.371651</td>\n",
       "      <td>-0.333128</td>\n",
       "      <td>0.059831</td>\n",
       "      <td>...</td>\n",
       "      <td>0.296393</td>\n",
       "      <td>-1.319472</td>\n",
       "      <td>0.19821</td>\n",
       "      <td>0.100911</td>\n",
       "      <td>0.040214</td>\n",
       "      <td>-0.499136</td>\n",
       "      <td>-0.170172</td>\n",
       "      <td>0.202427</td>\n",
       "      <td>0.096943</td>\n",
       "      <td>(22, 11, 9)</td>\n",
       "    </tr>\n",
       "    <tr>\n",
       "      <th>3</th>\n",
       "      <td>0.053474</td>\n",
       "      <td>-0.059124</td>\n",
       "      <td>0.090103</td>\n",
       "      <td>-0.057654</td>\n",
       "      <td>0.098876</td>\n",
       "      <td>-0.307052</td>\n",
       "      <td>0.394507</td>\n",
       "      <td>0.175287</td>\n",
       "      <td>0.713036</td>\n",
       "      <td>-0.087754</td>\n",
       "      <td>...</td>\n",
       "      <td>0.015435</td>\n",
       "      <td>-2.634882</td>\n",
       "      <td>-0.175633</td>\n",
       "      <td>0.052169</td>\n",
       "      <td>-0.053108</td>\n",
       "      <td>-0.846864</td>\n",
       "      <td>0.020704</td>\n",
       "      <td>-0.011033</td>\n",
       "      <td>0.115031</td>\n",
       "      <td>(11, 18, 11)</td>\n",
       "    </tr>\n",
       "    <tr>\n",
       "      <th>4</th>\n",
       "      <td>0.322472</td>\n",
       "      <td>-0.126816</td>\n",
       "      <td>0.33309</td>\n",
       "      <td>0.083121</td>\n",
       "      <td>0.215777</td>\n",
       "      <td>-0.17154</td>\n",
       "      <td>-0.199109</td>\n",
       "      <td>0.238076</td>\n",
       "      <td>0.803062</td>\n",
       "      <td>0.041603</td>\n",
       "      <td>...</td>\n",
       "      <td>0.105573</td>\n",
       "      <td>-0.744051</td>\n",
       "      <td>-0.043098</td>\n",
       "      <td>-0.049931</td>\n",
       "      <td>-0.016026</td>\n",
       "      <td>-0.426312</td>\n",
       "      <td>-0.155756</td>\n",
       "      <td>0.257844</td>\n",
       "      <td>0.026681</td>\n",
       "      <td>(10, 40, 5)</td>\n",
       "    </tr>\n",
       "  </tbody>\n",
       "</table>\n",
       "<p>5 rows × 26 columns</p>\n",
       "</div>"
      ],
      "text/plain": [
       "feature  approach     break     clean     drive       eat     enter      fear  \\\n",
       "voxel                                                                           \n",
       "0        0.316118  0.062101  0.304672  0.107914  0.179471 -0.175867  0.237096   \n",
       "1         0.23307 -0.038993  0.014711  0.111085  0.088122 -0.300206  -0.17827   \n",
       "2        0.000378  0.006736 -0.067433  0.088367  0.285909  0.144354 -0.183911   \n",
       "3        0.053474 -0.059124  0.090103 -0.057654  0.098876 -0.307052  0.394507   \n",
       "4        0.322472 -0.126816   0.33309  0.083121  0.215777  -0.17154 -0.199109   \n",
       "\n",
       "feature      fill      hear      lift  ...      ride       rub       run  \\\n",
       "voxel                                  ...                                 \n",
       "0        0.149849  0.404479  0.096848  ...  0.193677 -1.528674     0.024   \n",
       "1        0.447787  1.079586 -0.094468  ... -0.066421 -2.351172  0.084264   \n",
       "2        0.371651 -0.333128  0.059831  ...  0.296393 -1.319472   0.19821   \n",
       "3        0.175287  0.713036 -0.087754  ...  0.015435 -2.634882 -0.175633   \n",
       "4        0.238076  0.803062  0.041603  ...  0.105573 -0.744051 -0.043098   \n",
       "\n",
       "feature       say       see     smell     taste     touch      wear  \\\n",
       "voxel                                                                 \n",
       "0        0.034793  0.044276  -1.26423  0.043618   0.30875  0.081344   \n",
       "1       -0.018474 -0.079446 -1.450164 -0.165458  0.001592   0.04555   \n",
       "2        0.100911  0.040214 -0.499136 -0.170172  0.202427  0.096943   \n",
       "3        0.052169 -0.053108 -0.846864  0.020704 -0.011033  0.115031   \n",
       "4       -0.049931 -0.016026 -0.426312 -0.155756  0.257844  0.026681   \n",
       "\n",
       "feature   coordinates  \n",
       "voxel                  \n",
       "0        (15, 32, 18)  \n",
       "1         (7, 35, 10)  \n",
       "2         (22, 11, 9)  \n",
       "3        (11, 18, 11)  \n",
       "4         (10, 40, 5)  \n",
       "\n",
       "[5 rows x 26 columns]"
      ]
     },
     "execution_count": 513,
     "metadata": {},
     "output_type": "execute_result"
    }
   ],
   "source": [
    "df_coefficients.head()"
   ]
  },
  {
   "cell_type": "markdown",
   "id": "a7ef0b75-a21a-460c-a878-12ed27969dc9",
   "metadata": {},
   "source": [
    "### Brain images"
   ]
  },
  {
   "cell_type": "code",
   "execution_count": 343,
   "id": "0b13ad40-53e0-496a-99b1-a59c78865411",
   "metadata": {},
   "outputs": [],
   "source": [
    "import nibabel as nib\n",
    "from nilearn import plotting, image\n",
    "from nilearn.plotting import plot_glass_brain, plot_anat\n",
    "from nilearn.datasets import load_mni152_template"
   ]
  },
  {
   "cell_type": "code",
   "execution_count": 391,
   "id": "ddd9b93d-5d2e-4e0a-a52e-630bb289a9d9",
   "metadata": {},
   "outputs": [],
   "source": [
    "volume_shape = vox_atlas['Y'].shape\n",
    "brain_volume = np.zeros(volume_shape)"
   ]
  },
  {
   "cell_type": "code",
   "execution_count": 503,
   "id": "3428fff9-6be2-4739-b622-1cb9162b7de1",
   "metadata": {},
   "outputs": [],
   "source": [
    "for index, row in df_coefficients.iterrows():\n",
    "    coordinates = row['coordinates']\n",
    "    x, y, z = coordinates[0], coordinates[1], coordinates[2]\n",
    "    brain_volume[x, y, z] = row['see']"
   ]
  },
  {
   "cell_type": "code",
   "execution_count": 510,
   "id": "9d99fd08-ab1c-4d99-9b98-c8d6beab4ef9",
   "metadata": {},
   "outputs": [],
   "source": [
    "voxel_size = 3\n",
    "affine = np.array([\n",
    "    [-voxel_size, 0, 0, 75],  # Adjust the translation components to center the image better\n",
    "    [0, voxel_size, -0.2, -110], # Adjust these values to fine-tune the position\n",
    "    [0, 1.2, voxel_size, -40],\n",
    "    [0, 0, 0, 1]\n",
    "])"
   ]
  },
  {
   "cell_type": "code",
   "execution_count": 511,
   "id": "dcf23efc-4dee-4ec1-99c1-0fa98d572474",
   "metadata": {},
   "outputs": [],
   "source": [
    "nii_image = nib.Nifti1Image(brain_volume, affine=affine)"
   ]
  },
  {
   "cell_type": "code",
   "execution_count": 512,
   "id": "c1436c3e-35de-4621-9402-361fd2598b69",
   "metadata": {},
   "outputs": [
    {
     "data": {
      "text/plain": [
       "<nilearn.plotting.displays._projectors.OrthoProjector at 0x3567ca5d0>"
      ]
     },
     "execution_count": 512,
     "metadata": {},
     "output_type": "execute_result"
    },
    {
     "data": {
      "image/png": "[encoded data removed]",
      "text/plain": [
       "<Figure size 730x350 with 5 Axes>"
      ]
     },
     "metadata": {},
     "output_type": "display_data"
    }
   ],
   "source": [
    "plot_glass_brain(nii_image, display_mode='ortho', colorbar=True, plot_abs=False)"
   ]
  }
 ],
 "metadata": {
  "kernelspec": {
   "display_name": "Python 3 (ipykernel)",
   "language": "python",
   "name": "python3"
  },
  "language_info": {
   "codemirror_mode": {
    "name": "ipython",
    "version": 3
   },
   "file_extension": ".py",
   "mimetype": "text/x-python",
   "name": "python",
   "nbconvert_exporter": "python",
   "pygments_lexer": "ipython3",
   "version": "3.11.9"
  }
 },
 "nbformat": 4,
 "nbformat_minor": 5
}
